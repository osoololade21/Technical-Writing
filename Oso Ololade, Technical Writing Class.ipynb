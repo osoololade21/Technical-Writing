{
 "cells": [
  {
   "cell_type": "markdown",
   "id": "38247ccd",
   "metadata": {},
   "source": [
    "# Python 101: The Ultimate Python Tutorial for Beginners"
   ]
  },
  {
   "cell_type": "markdown",
   "id": "adecb194",
   "metadata": {},
   "source": [
    "## Introduction"
   ]
  },
  {
   "cell_type": "markdown",
   "id": "7d8e87ec",
   "metadata": {},
   "source": [
    "Hey, future tech bro/ tech sis! Are you looking to start a career in Tech? You came to the right place. This course aims to walk you through the basics of one of the most used programming languages in the world - Python. If you are like me who can't wait to go right in, then let's get started!\n",
    "\n",
    "What is Python all about? Python is a computer programming language that is mostly used to conduct data analysis and automate tasks in general. According to PYPL Index Ranking, Python ranks as the number one programming language."
   ]
  },
  {
   "cell_type": "markdown",
   "id": "d213c384",
   "metadata": {},
   "source": [
    "## Your First Task"
   ]
  },
  {
   "cell_type": "markdown",
   "id": "f6404740",
   "metadata": {},
   "source": [
    "Learning how to code with python without practicing is like learning the recipes of a meal without doing the actual cooking. So, your first task is to download the Jupyter Notebook, an interactive environment for writing and running codes. The following are the steps to doing that:\n",
    "\n",
    "1. Install Anaconda\n",
    "2. Select the platform-Windows/Mac/Linux\n",
    "3. Download the .exeinstaller\n",
    "4. Open and execute the .exeinstaller\n",
    "5. Launch the Anaconda Navigator\n",
    "6. Click on the Install Jupyter Notebook Button\n",
    "7. Finished"
   ]
  },
  {
   "cell_type": "markdown",
   "id": "f53a14fe",
   "metadata": {},
   "source": [
    "### Your first python program:"
   ]
  },
  {
   "cell_type": "code",
   "execution_count": 3,
   "id": "7a2852f7",
   "metadata": {},
   "outputs": [
    {
     "name": "stdout",
     "output_type": "stream",
     "text": [
      "Hello, World!\n"
     ]
    }
   ],
   "source": [
    "print(\"Hello, World!\")  \n",
    "# Yes, this is the legendary python program you have most likely heard about"
   ]
  },
  {
   "cell_type": "markdown",
   "id": "742f0de7",
   "metadata": {},
   "source": [
    "'Print' is a python function that is used to print the specified message as output.\n",
    "And the result displays what is in the parentheses."
   ]
  },
  {
   "cell_type": "markdown",
   "id": "f54739c0",
   "metadata": {},
   "source": [
    "## Data Types"
   ]
  },
  {
   "cell_type": "markdown",
   "id": "eac34f9b",
   "metadata": {},
   "source": [
    "1. Integers\n",
    "2. String\n",
    "3. List\n",
    "4. Tuples\n",
    "3. Dictionary"
   ]
  },
  {
   "cell_type": "markdown",
   "id": "55fc46fa",
   "metadata": {},
   "source": [
    "## Examples"
   ]
  },
  {
   "cell_type": "code",
   "execution_count": 9,
   "id": "284c29c2",
   "metadata": {},
   "outputs": [
    {
     "name": "stdout",
     "output_type": "stream",
     "text": [
      "Number is not prime\n"
     ]
    }
   ],
   "source": [
    "#This function checks if a number is prime or not\n",
    "# A prime number is a number that can only be divisible by 1 and itself\n",
    "num=7\n",
    "count=0   # to count how many factors are there since prime number only has 1 and itself\n",
    "if num>1:\n",
    "    for i in range(1, num+1):   # this loop statement takes five numbers\n",
    "        if (num%i)==0: \n",
    "          count=count+1\n",
    "    if count==2:\n",
    "        print (\"Number is Prime\")\n",
    "    else:\n",
    "        print(\"Number is not prime\")\n",
    "    "
   ]
  },
  {
   "cell_type": "markdown",
   "id": "e6718dd2",
   "metadata": {},
   "source": [
    "## Your Turn!"
   ]
  },
  {
   "cell_type": "markdown",
   "id": "8284e894",
   "metadata": {},
   "source": [
    "Write a code that checks if a number is an even number or not."
   ]
  },
  {
   "cell_type": "markdown",
   "id": "0c899adb",
   "metadata": {},
   "source": [
    "Good luck!"
   ]
  },
  {
   "cell_type": "code",
   "execution_count": null,
   "id": "0abb8c92",
   "metadata": {},
   "outputs": [],
   "source": []
  }
 ],
 "metadata": {
  "kernelspec": {
   "display_name": "Python 3 (ipykernel)",
   "language": "python",
   "name": "python3"
  },
  "language_info": {
   "codemirror_mode": {
    "name": "ipython",
    "version": 3
   },
   "file_extension": ".py",
   "mimetype": "text/x-python",
   "name": "python",
   "nbconvert_exporter": "python",
   "pygments_lexer": "ipython3",
   "version": "3.9.7"
  }
 },
 "nbformat": 4,
 "nbformat_minor": 5
}
